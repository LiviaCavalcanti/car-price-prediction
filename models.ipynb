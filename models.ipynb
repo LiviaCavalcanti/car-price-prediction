{
 "cells": [
  {
   "cell_type": "code",
   "execution_count": null,
   "metadata": {},
   "outputs": [],
   "source": [
    "from sklearn import svm\n",
    "from sklearn.model_selection import train_test_split\n",
    "import pandas as pd\n",
    "from sklearn import preprocessing"
   ]
  },
  {
   "cell_type": "code",
   "execution_count": null,
   "metadata": {},
   "outputs": [],
   "source": [
    "car_df = pd.read_csv(\"true_car_listings.csv\")\n",
    "car_df.head()"
   ]
  },
  {
   "cell_type": "code",
   "execution_count": null,
   "metadata": {},
   "outputs": [],
   "source": [
    "# convert string columns to numeric data\n",
    "svm_df = car_df\n",
    "svm_df.drop(\"Vin\",1,inplace=True)\n",
    "svm_df[[\"City\",\"State\",\"Make\", \"Model\"]] = svm_df[[\"City\",\"State\",\"Make\", \"Model\"]].astype('category')\n",
    "cat_columns = svm_df.select_dtypes(['category']).columns\n",
    "svm_df[cat_columns] = svm_df[cat_columns].apply(lambda x: x.cat.codes)\n",
    "svm_df.head()"
   ]
  },
  {
   "cell_type": "code",
   "execution_count": null,
   "metadata": {},
   "outputs": [],
   "source": [
    "X = svm_df[[\"Year\",\"Mileage\",\"City\",\"State\",\"Make\",\"Model\"]]\n",
    "y = svm_df[\"Price\"]\n",
    "X_scaled = preprocessing.scale(X)\n",
    "X_train, X_test, y_train, y_test = train_test_split(X, y, test_size=0.5, random_state=42)"
   ]
  },
  {
   "cell_type": "code",
   "execution_count": null,
   "metadata": {},
   "outputs": [],
   "source": [
    "# clf = svm.SVR()\n",
    "# clf.fit(X_train, y_train) \n",
    "from sklearn.model_selection import cross_val_score\n",
    "clf = svm.SVR()\n",
    "cross_val_score(clf, X_train, y_train, cv=10)"
   ]
  },
  {
   "cell_type": "code",
   "execution_count": null,
   "metadata": {},
   "outputs": [],
   "source": [
    "svm_df[[\"Year\",\"Mileage\",\"City\",\"State\",\"Make\",\"Model\"]]"
   ]
  }
 ],
 "metadata": {
  "kernelspec": {
   "display_name": "Python 3",
   "language": "python",
   "name": "python3"
  },
  "language_info": {
   "codemirror_mode": {
    "name": "ipython",
    "version": 3
   },
   "file_extension": ".py",
   "mimetype": "text/x-python",
   "name": "python",
   "nbconvert_exporter": "python",
   "pygments_lexer": "ipython3",
   "version": "3.6.5"
  }
 },
 "nbformat": 4,
 "nbformat_minor": 2
}
