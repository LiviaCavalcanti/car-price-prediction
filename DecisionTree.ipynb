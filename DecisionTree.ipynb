{
 "cells": [
  {
   "cell_type": "markdown",
   "metadata": {},
   "source": [
    "## Decision Tree Regression"
   ]
  },
  {
   "cell_type": "markdown",
   "metadata": {},
   "source": [
    "First, let's import all the modules needed to run the file."
   ]
  },
  {
   "cell_type": "code",
   "execution_count": 31,
   "metadata": {},
   "outputs": [],
   "source": [
    "from utils import preparing_data,cross_validation,rmse # read data\n",
    "from sklearn import preprocessing\n",
    "from sklearn.model_selection import train_test_split\n",
    "from math import sqrt # RMSE\n",
    "from sklearn.metrics import mean_squared_error # error metric\n",
    "from sklearn.model_selection import cross_val_score, cross_val_predict\n",
    "import matplotlib.pyplot as plt\n",
    "from sklearn.model_selection import KFold # import KFold\n",
    "import numpy as np\n",
    "# model\n",
    "from sklearn.tree import DecisionTreeRegressor\n",
    "import pandas as pd"
   ]
  },
  {
   "cell_type": "markdown",
   "metadata": {},
   "source": [
    "Now we use a script we created to pre-process data *(preparData)*, this step includes transforming non-numeric data and handling the outliers. In addition, we separated the test set (80%) and training (20%)."
   ]
  },
  {
   "cell_type": "markdown",
   "metadata": {},
   "source": [
    "We use the function created below to calculate the mean square error."
   ]
  },
  {
   "cell_type": "markdown",
   "metadata": {},
   "source": [
    "#### Without remove outliers"
   ]
  },
  {
   "cell_type": "code",
   "execution_count": 2,
   "metadata": {},
   "outputs": [
    {
     "name": "stderr",
     "output_type": "stream",
     "text": [
      "/usr/local/lib/python3.5/dist-packages/ipykernel_launcher.py:2: DataConversionWarning: Data with input dtype int8, int16, int64 were all converted to float64 by the scale function.\n",
      "  \n"
     ]
    }
   ],
   "source": [
    "X,y=preparing_data(IQR=False)\n",
    "X_scaled = preprocessing.scale(X)\n",
    "X_train, X_test, y_train, y_test = train_test_split(X_scaled, y, test_size=0.2, random_state=42)"
   ]
  },
  {
   "cell_type": "code",
   "execution_count": 3,
   "metadata": {},
   "outputs": [],
   "source": [
    "regressor = DecisionTreeRegressor(random_state=0)\n",
    "regressor.fit(X_train, y_train)\n",
    "predictions = regressor.predict(X_test)"
   ]
  },
  {
   "cell_type": "code",
   "execution_count": 4,
   "metadata": {},
   "outputs": [
    {
     "name": "stdout",
     "output_type": "stream",
     "text": [
      "RMSE Train:  226.88013077758367 RMSE Test:  5737.4721369755225\n"
     ]
    }
   ],
   "source": [
    "print(\"RMSE Train: \", rmse(regressor,y_train, X_train), \"RMSE Test: \", rmse(regressor,y_test, X_test))"
   ]
  },
  {
   "cell_type": "markdown",
   "metadata": {},
   "source": [
    "**Here, we create the regression model without outliers in data:**"
   ]
  },
  {
   "cell_type": "code",
   "execution_count": 4,
   "metadata": {},
   "outputs": [
    {
     "name": "stderr",
     "output_type": "stream",
     "text": [
      "/usr/local/lib/python3.5/dist-packages/ipykernel_launcher.py:2: DataConversionWarning: Data with input dtype int8, int16, int64 were all converted to float64 by the scale function.\n",
      "  \n"
     ]
    }
   ],
   "source": [
    "X_cleaner,y_cleaner=preparing_data()\n",
    "X_scaled_cleaner = preprocessing.scale(X_cleaner)\n",
    "X_train_cleaner, X_test_cleaner, y_train_cleaner, y_test_cleaner = train_test_split(X_scaled_cleaner, y_cleaner, test_size=0.2, random_state=42)"
   ]
  },
  {
   "cell_type": "code",
   "execution_count": 5,
   "metadata": {},
   "outputs": [],
   "source": [
    "regressor_cleaner = DecisionTreeRegressor(random_state=0)\n",
    "regressor_cleaner.fit(X_train_cleaner, y_train_cleaner)\n",
    "predictions_cleaner = regressor_cleaner.predict(X_test_cleaner)"
   ]
  },
  {
   "cell_type": "markdown",
   "metadata": {},
   "source": [
    "Let's get some sample to plot the graphs later."
   ]
  },
  {
   "cell_type": "code",
   "execution_count": 7,
   "metadata": {},
   "outputs": [
    {
     "name": "stdout",
     "output_type": "stream",
     "text": [
      "[27900, 7494, 34850, 22974, 30349, 17497, 19500, 26967, 30987, 23257, 8488, 34996, 21495, 37987, 9896, 20811, 6788, 9998, 30487, 13750, 31999, 23799, 18900, 9747, 16988, 17986, 26991, 16966, 15988, 19989, 20995, 21488, 11942, 31804, 6900, 26730, 12049, 11599, 17728, 10250, 14950, 8295, 21492, 19988, 12995, 19000, 47375, 12999, 9989, 6900]\n"
     ]
    }
   ],
   "source": [
    "print(y_test_cleaner[152094:152144].tolist())"
   ]
  },
  {
   "cell_type": "code",
   "execution_count": 8,
   "metadata": {},
   "outputs": [
    {
     "name": "stdout",
     "output_type": "stream",
     "text": [
      "[27990.0, 18629.0, 13907.0, 20298.0, 4495.0, 39988.0, 8990.0, 15933.0, 6999.0, 12995.0, 15396.0, 14995.0, 57322.0, 21000.0, 15950.0, 13995.0, 18929.0, 6525.0, 23900.0, 13987.0, 44990.0, 26999.0, 16495.0, 10312.0, 16988.0, 4995.0, 18617.0, 42890.0, 12900.0, 6250.0, 12598.0, 14995.0, 14500.0, 57844.0, 5495.0, 10988.0, 16495.0, 16999.0, 4495.0, 16733.0, 23999.0, 27989.0, 23394.0, 15195.0, 10590.0, 13995.0, 10749.0, 38999.0, 14884.0, 26500.0]\n"
     ]
    }
   ],
   "source": [
    "print(predictions[152094:152144].tolist())"
   ]
  },
  {
   "cell_type": "markdown",
   "metadata": {},
   "source": [
    "Verifying the root mean square error in the training set:"
   ]
  },
  {
   "cell_type": "code",
   "execution_count": 9,
   "metadata": {},
   "outputs": [
    {
     "name": "stdout",
     "output_type": "stream",
     "text": [
      "RMSE Train:  86.60302625104681 RMSE Test:  3855.118118325681\n"
     ]
    }
   ],
   "source": [
    "print(\"RMSE Train: \", rmse(regressor_cleaner, y_train_cleaner, X_train_cleaner), \"RMSE Test: \", rmse(regressor_cleaner, y_test_cleaner, X_test_cleaner))"
   ]
  },
  {
   "cell_type": "markdown",
   "metadata": {},
   "source": [
    "As expected, in the test set the error is greater than in the training. Now we will perform the cross validation and compute the scores for 10 consecutive times.\n",
    "\n"
   ]
  },
  {
   "cell_type": "markdown",
   "metadata": {},
   "source": [
    "**Cross-validation:**"
   ]
  },
  {
   "cell_type": "markdown",
   "metadata": {},
   "source": [
    "Let's use the k-folder method to cross-validate, so we choose k = 10.\n"
   ]
  },
  {
   "cell_type": "code",
   "execution_count": 6,
   "metadata": {},
   "outputs": [],
   "source": [
    "list_rmse_train_cleaner,list_rmse_test_cleaner,trained_model_cleaner=cross_validation(regressor_cleaner,pd.DataFrame(X_scaled_cleaner),y_cleaner)"
   ]
  },
  {
   "cell_type": "code",
   "execution_count": 7,
   "metadata": {},
   "outputs": [],
   "source": [
    "list_rmse_train,list_rmse_test,trained_model=cross_validation(regressor,pd.DataFrame(X_scaled),y)"
   ]
  },
  {
   "cell_type": "code",
   "execution_count": 8,
   "metadata": {},
   "outputs": [
    {
     "data": {
      "text/html": [
       "<div>\n",
       "<style scoped>\n",
       "    .dataframe tbody tr th:only-of-type {\n",
       "        vertical-align: middle;\n",
       "    }\n",
       "\n",
       "    .dataframe tbody tr th {\n",
       "        vertical-align: top;\n",
       "    }\n",
       "\n",
       "    .dataframe thead th {\n",
       "        text-align: right;\n",
       "    }\n",
       "</style>\n",
       "<table border=\"1\" class=\"dataframe\">\n",
       "  <thead>\n",
       "    <tr style=\"text-align: right;\">\n",
       "      <th></th>\n",
       "      <th>test cv</th>\n",
       "      <th>test wo cv</th>\n",
       "      <th>train cv</th>\n",
       "      <th>train wo cv</th>\n",
       "    </tr>\n",
       "  </thead>\n",
       "  <tbody>\n",
       "    <tr>\n",
       "      <th>0</th>\n",
       "      <td>58297.193427</td>\n",
       "      <td>12843.412960</td>\n",
       "      <td>213.122189</td>\n",
       "      <td>77.678136</td>\n",
       "    </tr>\n",
       "    <tr>\n",
       "      <th>1</th>\n",
       "      <td>14601.432180</td>\n",
       "      <td>8282.601874</td>\n",
       "      <td>233.547461</td>\n",
       "      <td>90.458496</td>\n",
       "    </tr>\n",
       "    <tr>\n",
       "      <th>2</th>\n",
       "      <td>16016.095211</td>\n",
       "      <td>9069.813790</td>\n",
       "      <td>204.475986</td>\n",
       "      <td>85.815100</td>\n",
       "    </tr>\n",
       "    <tr>\n",
       "      <th>3</th>\n",
       "      <td>11466.014484</td>\n",
       "      <td>8782.436797</td>\n",
       "      <td>214.483023</td>\n",
       "      <td>68.010685</td>\n",
       "    </tr>\n",
       "    <tr>\n",
       "      <th>4</th>\n",
       "      <td>17576.205530</td>\n",
       "      <td>9676.502805</td>\n",
       "      <td>213.914336</td>\n",
       "      <td>76.866666</td>\n",
       "    </tr>\n",
       "    <tr>\n",
       "      <th>5</th>\n",
       "      <td>27759.660236</td>\n",
       "      <td>9160.585906</td>\n",
       "      <td>233.892278</td>\n",
       "      <td>91.668077</td>\n",
       "    </tr>\n",
       "    <tr>\n",
       "      <th>6</th>\n",
       "      <td>18373.183273</td>\n",
       "      <td>12448.039617</td>\n",
       "      <td>221.009980</td>\n",
       "      <td>89.043968</td>\n",
       "    </tr>\n",
       "    <tr>\n",
       "      <th>7</th>\n",
       "      <td>16764.883427</td>\n",
       "      <td>8205.878149</td>\n",
       "      <td>231.070519</td>\n",
       "      <td>89.962801</td>\n",
       "    </tr>\n",
       "    <tr>\n",
       "      <th>8</th>\n",
       "      <td>18807.985569</td>\n",
       "      <td>9797.068042</td>\n",
       "      <td>186.881443</td>\n",
       "      <td>90.461965</td>\n",
       "    </tr>\n",
       "    <tr>\n",
       "      <th>9</th>\n",
       "      <td>15363.799339</td>\n",
       "      <td>11501.170035</td>\n",
       "      <td>233.623218</td>\n",
       "      <td>90.685518</td>\n",
       "    </tr>\n",
       "  </tbody>\n",
       "</table>\n",
       "</div>"
      ],
      "text/plain": [
       "        test cv    test wo cv    train cv  train wo cv\n",
       "0  58297.193427  12843.412960  213.122189    77.678136\n",
       "1  14601.432180   8282.601874  233.547461    90.458496\n",
       "2  16016.095211   9069.813790  204.475986    85.815100\n",
       "3  11466.014484   8782.436797  214.483023    68.010685\n",
       "4  17576.205530   9676.502805  213.914336    76.866666\n",
       "5  27759.660236   9160.585906  233.892278    91.668077\n",
       "6  18373.183273  12448.039617  221.009980    89.043968\n",
       "7  16764.883427   8205.878149  231.070519    89.962801\n",
       "8  18807.985569   9797.068042  186.881443    90.461965\n",
       "9  15363.799339  11501.170035  233.623218    90.685518"
      ]
     },
     "execution_count": 8,
     "metadata": {},
     "output_type": "execute_result"
    }
   ],
   "source": [
    "pd.DataFrame(data={'train cv':list_rmse_train, 'test cv':list_rmse_test, 'train wo cv': list_rmse_train_cleaner, 'test wo cv': list_rmse_test_cleaner})"
   ]
  },
  {
   "cell_type": "code",
   "execution_count": 22,
   "metadata": {},
   "outputs": [
    {
     "data": {
      "text/plain": [
       "93"
      ]
     },
     "execution_count": 22,
     "metadata": {},
     "output_type": "execute_result"
    }
   ],
   "source": [
    "pred = trained_model[7].predict(X_test_cleaner)\n",
    "pred.sort()\n",
    "pred[0:500]"
   ]
  },
  {
   "cell_type": "code",
   "execution_count": 43,
   "metadata": {},
   "outputs": [
    {
     "data": {
      "text/plain": [
       "861.3870095220325"
      ]
     },
     "execution_count": 43,
     "metadata": {},
     "output_type": "execute_result"
    }
   ],
   "source": [
    "df = pd.DataFrame(data={'pred':trained_model_cleaner[7].predict(X_test_cleaner), 'target':y_test_cleaner})\n",
    "df['error'] = abs(df['target']-df['pred'])\n",
    "df.sort_values(by=['error'])\n",
    "np.mean(df['error'])"
   ]
  },
  {
   "cell_type": "code",
   "execution_count": 44,
   "metadata": {},
   "outputs": [
    {
     "data": {
      "text/plain": [
       "3513.2817756483737"
      ]
     },
     "execution_count": 44,
     "metadata": {},
     "output_type": "execute_result"
    }
   ],
   "source": [
    "np.std(df['error'])"
   ]
  },
  {
   "cell_type": "code",
   "execution_count": 45,
   "metadata": {},
   "outputs": [
    {
     "data": {
      "text/plain": [
       "872.457842070373"
      ]
     },
     "execution_count": 45,
     "metadata": {},
     "output_type": "execute_result"
    }
   ],
   "source": [
    "df = pd.DataFrame(data={'pred':trained_model_cleaner[7].predict(X_train_cleaner), 'target':y_train_cleaner})\n",
    "df['error'] = abs(df['target']-df['pred'])\n",
    "df.sort_values(by=['error'])\n",
    "np.mean(df['error'])"
   ]
  },
  {
   "cell_type": "code",
   "execution_count": 46,
   "metadata": {},
   "outputs": [
    {
     "data": {
      "text/plain": [
       "3537.1365317932905"
      ]
     },
     "execution_count": 46,
     "metadata": {},
     "output_type": "execute_result"
    }
   ],
   "source": [
    "np.std(df['error'])"
   ]
  },
  {
   "cell_type": "code",
   "execution_count": 37,
   "metadata": {},
   "outputs": [
    {
     "data": {
      "text/plain": [
       "3617.33830533948"
      ]
     },
     "execution_count": 37,
     "metadata": {},
     "output_type": "execute_result"
    }
   ],
   "source": [
    "rmse(trained_model_cleaner[7],y_test_cleaner, X_test_cleaner)"
   ]
  },
  {
   "cell_type": "markdown",
   "metadata": {},
   "source": [
    "**Standard deviation of error in training set after cross-validation**"
   ]
  },
  {
   "cell_type": "code",
   "execution_count": 13,
   "metadata": {},
   "outputs": [
    {
     "data": {
      "text/plain": [
       "7.657801576247329"
      ]
     },
     "execution_count": 13,
     "metadata": {},
     "output_type": "execute_result"
    }
   ],
   "source": [
    "np.std(list_rmse_train_cleaner)"
   ]
  },
  {
   "cell_type": "markdown",
   "metadata": {},
   "source": [
    "**Standard deviation of error in test set after cross-validation**"
   ]
  },
  {
   "cell_type": "code",
   "execution_count": 14,
   "metadata": {},
   "outputs": [
    {
     "data": {
      "text/plain": [
       "1602.887564760597"
      ]
     },
     "execution_count": 14,
     "metadata": {},
     "output_type": "execute_result"
    }
   ],
   "source": [
    "np.std(list_rmse_test_cleaner)"
   ]
  },
  {
   "cell_type": "markdown",
   "metadata": {},
   "source": [
    "**Mean of the error in the training set after cross-validation**"
   ]
  },
  {
   "cell_type": "code",
   "execution_count": 15,
   "metadata": {},
   "outputs": [
    {
     "data": {
      "text/plain": [
       "85.06514123212096"
      ]
     },
     "execution_count": 15,
     "metadata": {},
     "output_type": "execute_result"
    }
   ],
   "source": [
    "np.mean(list_rmse_train_cleaner)"
   ]
  },
  {
   "cell_type": "markdown",
   "metadata": {},
   "source": [
    "**Mean of the error in the test set after cross-validation**"
   ]
  },
  {
   "cell_type": "code",
   "execution_count": 16,
   "metadata": {},
   "outputs": [
    {
     "data": {
      "text/plain": [
       "9976.750997537993"
      ]
     },
     "execution_count": 16,
     "metadata": {},
     "output_type": "execute_result"
    }
   ],
   "source": [
    "np.mean(list_rmse_test_cleaner)"
   ]
  }
 ],
 "metadata": {
  "kernelspec": {
   "display_name": "Python 3",
   "language": "python",
   "name": "python3"
  },
  "language_info": {
   "codemirror_mode": {
    "name": "ipython",
    "version": 3
   },
   "file_extension": ".py",
   "mimetype": "text/x-python",
   "name": "python",
   "nbconvert_exporter": "python",
   "pygments_lexer": "ipython3",
   "version": "3.5.2"
  }
 },
 "nbformat": 4,
 "nbformat_minor": 2
}
