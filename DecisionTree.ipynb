{
 "cells": [
  {
   "cell_type": "markdown",
   "metadata": {},
   "source": [
    "## Decision Tree Regression"
   ]
  },
  {
   "cell_type": "markdown",
   "metadata": {},
   "source": [
    "First, let's import all the modules needed to run the file."
   ]
  },
  {
   "cell_type": "code",
   "execution_count": 123,
   "metadata": {},
   "outputs": [],
   "source": [
    "from preparingData import preparing_data # read data\n",
    "from sklearn import preprocessing\n",
    "from sklearn.model_selection import train_test_split\n",
    "from math import sqrt # RMSE\n",
    "from sklearn.metrics import mean_squared_error # error metric\n",
    "from sklearn.model_selection import cross_val_score, cross_val_predict\n",
    "import matplotlib.pyplot as plt\n",
    "from sklearn.model_selection import KFold # import KFold\n",
    "# model\n",
    "from sklearn.tree import DecisionTreeRegressor\n"
   ]
  },
  {
   "cell_type": "markdown",
   "metadata": {},
   "source": [
    "Now we use a script we created to pre-process data *(preparData)*, this step includes transforming non-numeric data and handling the outliers. In addition, we separated the test set (80%) and training (20%)."
   ]
  },
  {
   "cell_type": "code",
   "execution_count": 124,
   "metadata": {},
   "outputs": [
    {
     "name": "stderr",
     "output_type": "stream",
     "text": [
      "/usr/lib/python3/dist-packages/ipykernel_launcher.py:2: DataConversionWarning: Data with input dtype int8, int16, int64 were all converted to float64 by the scale function.\n",
      "  \n"
     ]
    }
   ],
   "source": [
    "X,y=preparing_data()\n",
    "X_scaled = preprocessing.scale(X)\n",
    "X_train, X_test, y_train, y_test = train_test_split(X_scaled, y, test_size=0.2, random_state=42)"
   ]
  },
  {
   "cell_type": "markdown",
   "metadata": {},
   "source": [
    "We use the function created below to calculate the mean square error."
   ]
  },
  {
   "cell_type": "code",
   "execution_count": 125,
   "metadata": {},
   "outputs": [],
   "source": [
    "def rmse(model, y, x):\n",
    "    return sqrt(mean_squared_error(y, model.predict(x)))\n"
   ]
  },
  {
   "cell_type": "markdown",
   "metadata": {},
   "source": [
    "**Here, we create the regression model:**"
   ]
  },
  {
   "cell_type": "code",
   "execution_count": 126,
   "metadata": {},
   "outputs": [],
   "source": [
    "regressor = DecisionTreeRegressor(random_state=0)\n",
    "regressor.fit(X_train, y_train)\n",
    "predictions = regressor.predict(X_test)"
   ]
  },
  {
   "cell_type": "markdown",
   "metadata": {},
   "source": [
    "Verifying the root mean square error in the training set:"
   ]
  },
  {
   "cell_type": "code",
   "execution_count": 127,
   "metadata": {},
   "outputs": [
    {
     "data": {
      "text/plain": [
       "86.60302625104681"
      ]
     },
     "execution_count": 127,
     "metadata": {},
     "output_type": "execute_result"
    }
   ],
   "source": [
    "rmse(regressor, y_train, X_train)"
   ]
  },
  {
   "cell_type": "markdown",
   "metadata": {},
   "source": [
    "Verifying the root mean square error in the test set:"
   ]
  },
  {
   "cell_type": "code",
   "execution_count": 128,
   "metadata": {},
   "outputs": [
    {
     "data": {
      "text/plain": [
       "3855.118118325681"
      ]
     },
     "execution_count": 128,
     "metadata": {},
     "output_type": "execute_result"
    }
   ],
   "source": [
    "rmse(regressor, y_test, X_test)"
   ]
  },
  {
   "cell_type": "markdown",
   "metadata": {},
   "source": [
    "As expected, in the test set the error is greater than in the training. Now we will perform the cross validation and compute the scores for 10 consecutive times.\n",
    "\n"
   ]
  },
  {
   "cell_type": "markdown",
   "metadata": {},
   "source": [
    "**Cross-validation:**"
   ]
  },
  {
   "cell_type": "code",
   "execution_count": 129,
   "metadata": {},
   "outputs": [
    {
     "name": "stdout",
     "output_type": "stream",
     "text": [
      "KFold(n_splits=10, random_state=None, shuffle=False)\n"
     ]
    }
   ],
   "source": [
    "kf = KFold(n_splits=10) # Define the split - into 5 folds \n",
    "kf.get_n_splits(X_scaled) # returns the number of splitting iterations in the cross-validator\n",
    "KFold(n_splits=10, random_state=None, shuffle=False)\n",
    "print(kf) "
   ]
  },
  {
   "cell_type": "code",
   "execution_count": null,
   "metadata": {},
   "outputs": [],
   "source": [
    "list_rmse_train = []\n",
    "list_rmse_test = []\n",
    "regressor = DecisionTreeRegressor(random_state=0)\n",
    "for train_index, test_index in kf.split(X):\n",
    "    X_train, X_test = X.iloc[train_index], X.iloc[test_index]\n",
    "    y_train, y_test = y.iloc[train_index], y.iloc[test_index]\n",
    "    regressor.fit(X_train, y_train)\n",
    "    list_rmse_train.append(rmse(regressor, y_train, X_train))\n",
    "    list_rmse_test.append(rmse(regressor, y_test, X_test))\n"
   ]
  },
  {
   "cell_type": "code",
   "execution_count": 122,
   "metadata": {},
   "outputs": [
    {
     "name": "stdout",
     "output_type": "stream",
     "text": [
      "[77.67813575158814, 90.4584955714768, 85.81509990711267, 68.01068546766068, 76.86666634106744, 91.6680768550825, 89.04396809364674, 89.96280088167087, 90.46196525692962, 90.6855181949743]\n"
     ]
    }
   ],
   "source": [
    "print(list_rmse_train)"
   ]
  },
  {
   "cell_type": "code",
   "execution_count": 120,
   "metadata": {},
   "outputs": [
    {
     "name": "stdout",
     "output_type": "stream",
     "text": [
      "0          8995\n",
      "1         10888\n",
      "2          8995\n",
      "3         10999\n",
      "4         14799\n",
      "5          7989\n",
      "6         14490\n",
      "7         13995\n",
      "8         10495\n",
      "9          9995\n",
      "10        12921\n",
      "11        12000\n",
      "12         7750\n",
      "13        17628\n",
      "14        13999\n",
      "15        14995\n",
      "16        14990\n",
      "17        14590\n",
      "18         9500\n",
      "19         7990\n",
      "20        16994\n",
      "21        15499\n",
      "22        13499\n",
      "23        13999\n",
      "24        14999\n",
      "25        15995\n",
      "26        14500\n",
      "27        13995\n",
      "28        16000\n",
      "29        17419\n",
      "          ...  \n",
      "851994    42994\n",
      "851995    41559\n",
      "851997    43990\n",
      "851998    31720\n",
      "852002    42540\n",
      "852005    47215\n",
      "852010    45980\n",
      "852011    33900\n",
      "852014    45885\n",
      "852015    42988\n",
      "852016    41795\n",
      "852017    33995\n",
      "852019    44991\n",
      "852021    44991\n",
      "852022    46935\n",
      "852023    32995\n",
      "852024    44670\n",
      "852028    25900\n",
      "852029    33995\n",
      "852030    26986\n",
      "852038    46885\n",
      "852043    42995\n",
      "852048    38888\n",
      "852051    35995\n",
      "852052    35900\n",
      "852076    37999\n",
      "852089    44565\n",
      "852108    45280\n",
      "852111    46500\n",
      "852112    46530\n",
      "Name: Price, Length: 770733, dtype: int64\n"
     ]
    }
   ],
   "source": [
    "print(y)"
   ]
  },
  {
   "cell_type": "code",
   "execution_count": 121,
   "metadata": {},
   "outputs": [
    {
     "data": {
      "text/plain": [
       "array([-0.14677915, -0.06747099, -0.16831508,  0.13520964, -0.04985047,\n",
       "       -0.18935497, -0.02631869, -1.40687043,  0.29789286, -0.10280012])"
      ]
     },
     "execution_count": 121,
     "metadata": {},
     "output_type": "execute_result"
    }
   ],
   "source": [
    "scores = cross_val_score(regressor, X_train, y_train, cv=10)\n",
    "scores"
   ]
  }
 ],
 "metadata": {
  "kernelspec": {
   "display_name": "Python 3",
   "language": "python",
   "name": "python3"
  },
  "language_info": {
   "codemirror_mode": {
    "name": "ipython",
    "version": 3
   },
   "file_extension": ".py",
   "mimetype": "text/x-python",
   "name": "python",
   "nbconvert_exporter": "python",
   "pygments_lexer": "ipython3",
   "version": "3.6.7"
  }
 },
 "nbformat": 4,
 "nbformat_minor": 2
}
