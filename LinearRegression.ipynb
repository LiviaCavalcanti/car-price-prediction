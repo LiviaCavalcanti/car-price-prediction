{
 "cells": [
  {
   "cell_type": "markdown",
   "metadata": {},
   "source": [
    "## Linear Regression"
   ]
  },
  {
   "cell_type": "markdown",
   "metadata": {},
   "source": [
    "Here, we will perform the same procedure done in the *DecisionTree.ipynb* file, just by changing the regression model to Gradient Boosting.\n"
   ]
  },
  {
   "cell_type": "code",
   "execution_count": 1,
   "metadata": {},
   "outputs": [],
   "source": [
    "from utils import preparing_data,cross_validation,rmse # read data\n",
    "from sklearn import preprocessing\n",
    "from sklearn.model_selection import train_test_split\n",
    "from math import sqrt # RMSE\n",
    "from sklearn.metrics import mean_squared_error # error metric\n",
    "from sklearn.model_selection import cross_val_score, cross_val_predict\n",
    "import matplotlib.pyplot as plt\n",
    "from sklearn.model_selection import KFold # import KFold\n",
    "import numpy as np\n",
    "import pandas as pd\n",
    "# model\n",
    "from sklearn import linear_model\n"
   ]
  },
  {
   "cell_type": "code",
   "execution_count": 2,
   "metadata": {},
   "outputs": [
    {
     "name": "stderr",
     "output_type": "stream",
     "text": [
      "/usr/local/lib/python3.5/dist-packages/ipykernel_launcher.py:2: DataConversionWarning: Data with input dtype int8, int16, int64 were all converted to float64 by the scale function.\n",
      "  \n"
     ]
    }
   ],
   "source": [
    "X_cleaner,y_cleaner=preparing_data()\n",
    "X_scaled_cleaner = preprocessing.scale(X_cleaner)\n",
    "X_train_cleaner, X_test_cleaner, y_train_cleaner, y_test_cleaner = train_test_split(X_scaled_cleaner, y_cleaner, test_size=0.2, random_state=42)"
   ]
  },
  {
   "cell_type": "code",
   "execution_count": 3,
   "metadata": {},
   "outputs": [],
   "source": [
    "reg_cleaner = linear_model.Ridge(alpha=.5)\n",
    "reg_cleaner.fit(X_train_cleaner, y_train_cleaner)\n",
    "predictions_cleaner = reg_cleaner.predict(X_test_cleaner)"
   ]
  },
  {
   "cell_type": "code",
   "execution_count": 20,
   "metadata": {},
   "outputs": [
    {
     "name": "stdout",
     "output_type": "stream",
     "text": [
      "RMSE train:  7952.906389540915 , RMSE test:  7954.592151225256\n"
     ]
    }
   ],
   "source": [
    "print(\"RMSE train: \", rmse(reg_cleaner,y_train_cleaner,X_train_cleaner),\", RMSE test: \", rmse(reg_cleaner,y_test_cleaner,X_test_cleaner))"
   ]
  },
  {
   "cell_type": "markdown",
   "metadata": {},
   "source": [
    "**Here, we create the regression model:**"
   ]
  },
  {
   "cell_type": "code",
   "execution_count": 4,
   "metadata": {},
   "outputs": [
    {
     "name": "stderr",
     "output_type": "stream",
     "text": [
      "/usr/local/lib/python3.5/dist-packages/ipykernel_launcher.py:2: DataConversionWarning: Data with input dtype int8, int16, int64 were all converted to float64 by the scale function.\n",
      "  \n"
     ]
    }
   ],
   "source": [
    "X,y=preparing_data(IQR=False)\n",
    "X_scaled = preprocessing.scale(X)\n",
    "X_train, X_test, y_train, y_test = train_test_split(X_scaled, y, test_size=0.2, random_state=42)"
   ]
  },
  {
   "cell_type": "code",
   "execution_count": 5,
   "metadata": {},
   "outputs": [],
   "source": [
    "reg = linear_model.Ridge(alpha=.5)\n",
    "reg.fit(X_train, y_train)\n",
    "predictions = reg.predict(X_test)"
   ]
  },
  {
   "cell_type": "code",
   "execution_count": 12,
   "metadata": {},
   "outputs": [
    {
     "data": {
      "text/html": [
       "<div>\n",
       "<style scoped>\n",
       "    .dataframe tbody tr th:only-of-type {\n",
       "        vertical-align: middle;\n",
       "    }\n",
       "\n",
       "    .dataframe tbody tr th {\n",
       "        vertical-align: top;\n",
       "    }\n",
       "\n",
       "    .dataframe thead th {\n",
       "        text-align: right;\n",
       "    }\n",
       "</style>\n",
       "<table border=\"1\" class=\"dataframe\">\n",
       "  <thead>\n",
       "    <tr style=\"text-align: right;\">\n",
       "      <th></th>\n",
       "      <th>prediction</th>\n",
       "      <th>target</th>\n",
       "    </tr>\n",
       "  </thead>\n",
       "  <tbody>\n",
       "    <tr>\n",
       "      <th>0</th>\n",
       "      <td>24923.415562</td>\n",
       "      <td>27900</td>\n",
       "    </tr>\n",
       "    <tr>\n",
       "      <th>1</th>\n",
       "      <td>14378.554358</td>\n",
       "      <td>7494</td>\n",
       "    </tr>\n",
       "    <tr>\n",
       "      <th>2</th>\n",
       "      <td>27112.678984</td>\n",
       "      <td>34850</td>\n",
       "    </tr>\n",
       "    <tr>\n",
       "      <th>3</th>\n",
       "      <td>24121.276254</td>\n",
       "      <td>22974</td>\n",
       "    </tr>\n",
       "    <tr>\n",
       "      <th>4</th>\n",
       "      <td>24575.656316</td>\n",
       "      <td>30349</td>\n",
       "    </tr>\n",
       "  </tbody>\n",
       "</table>\n",
       "</div>"
      ],
      "text/plain": [
       "     prediction  target\n",
       "0  24923.415562   27900\n",
       "1  14378.554358    7494\n",
       "2  27112.678984   34850\n",
       "3  24121.276254   22974\n",
       "4  24575.656316   30349"
      ]
     },
     "execution_count": 12,
     "metadata": {},
     "output_type": "execute_result"
    }
   ],
   "source": [
    "pd.DataFrame(data={'target':y_test[152094:152144].tolist(), 'prediction':predictions[152094:152144].tolist()}).head()"
   ]
  },
  {
   "cell_type": "code",
   "execution_count": 10,
   "metadata": {},
   "outputs": [
    {
     "name": "stdout",
     "output_type": "stream",
     "text": [
      "RMSE Train:  7952.906389540915 RMSE Test:  7954.592151225256\n"
     ]
    }
   ],
   "source": [
    "print(\"RMSE Train: \", rmse(reg, y_train, X_train), \"RMSE Test: \", rmse(reg, y_test, X_test))"
   ]
  },
  {
   "cell_type": "markdown",
   "metadata": {},
   "source": [
    "**Cross-validation:**"
   ]
  },
  {
   "cell_type": "code",
   "execution_count": 7,
   "metadata": {},
   "outputs": [],
   "source": [
    "list_rmse_train,list_rmse_test,scores_train = cross_validation(reg,pd.DataFrame(X_scaled),y)"
   ]
  },
  {
   "cell_type": "code",
   "execution_count": 6,
   "metadata": {},
   "outputs": [],
   "source": [
    "list_rmse_train_scaled,list_rmse_test_scaled,trained_model_cleaner = cross_validation(reg,pd.DataFrame(X_scaled_cleaner),y_cleaner)"
   ]
  },
  {
   "cell_type": "code",
   "execution_count": 8,
   "metadata": {},
   "outputs": [
    {
     "data": {
      "text/html": [
       "<div>\n",
       "<style scoped>\n",
       "    .dataframe tbody tr th:only-of-type {\n",
       "        vertical-align: middle;\n",
       "    }\n",
       "\n",
       "    .dataframe tbody tr th {\n",
       "        vertical-align: top;\n",
       "    }\n",
       "\n",
       "    .dataframe thead th {\n",
       "        text-align: right;\n",
       "    }\n",
       "</style>\n",
       "<table border=\"1\" class=\"dataframe\">\n",
       "  <thead>\n",
       "    <tr style=\"text-align: right;\">\n",
       "      <th></th>\n",
       "      <th>test cv</th>\n",
       "      <th>test wo cv</th>\n",
       "      <th>train cv</th>\n",
       "      <th>train wo cv</th>\n",
       "    </tr>\n",
       "  </thead>\n",
       "  <tbody>\n",
       "    <tr>\n",
       "      <th>0</th>\n",
       "      <td>13482.908969</td>\n",
       "      <td>8650.055538</td>\n",
       "      <td>11991.676329</td>\n",
       "      <td>7912.252281</td>\n",
       "    </tr>\n",
       "    <tr>\n",
       "      <th>1</th>\n",
       "      <td>8567.673295</td>\n",
       "      <td>7676.567978</td>\n",
       "      <td>12473.335229</td>\n",
       "      <td>8002.679936</td>\n",
       "    </tr>\n",
       "    <tr>\n",
       "      <th>2</th>\n",
       "      <td>17181.781449</td>\n",
       "      <td>9411.029793</td>\n",
       "      <td>11428.928385</td>\n",
       "      <td>7797.589698</td>\n",
       "    </tr>\n",
       "    <tr>\n",
       "      <th>3</th>\n",
       "      <td>6941.695667</td>\n",
       "      <td>7394.696477</td>\n",
       "      <td>12562.504687</td>\n",
       "      <td>8018.134389</td>\n",
       "    </tr>\n",
       "    <tr>\n",
       "      <th>4</th>\n",
       "      <td>11540.762660</td>\n",
       "      <td>8482.100750</td>\n",
       "      <td>12206.330273</td>\n",
       "      <td>7908.291761</td>\n",
       "    </tr>\n",
       "    <tr>\n",
       "      <th>5</th>\n",
       "      <td>9258.664513</td>\n",
       "      <td>7385.995027</td>\n",
       "      <td>12403.458008</td>\n",
       "      <td>8020.066567</td>\n",
       "    </tr>\n",
       "    <tr>\n",
       "      <th>6</th>\n",
       "      <td>14305.032170</td>\n",
       "      <td>8308.020080</td>\n",
       "      <td>11851.148527</td>\n",
       "      <td>7913.633081</td>\n",
       "    </tr>\n",
       "    <tr>\n",
       "      <th>7</th>\n",
       "      <td>13424.146316</td>\n",
       "      <td>8383.597261</td>\n",
       "      <td>11969.257071</td>\n",
       "      <td>7916.426606</td>\n",
       "    </tr>\n",
       "    <tr>\n",
       "      <th>8</th>\n",
       "      <td>16194.683135</td>\n",
       "      <td>8659.332165</td>\n",
       "      <td>11614.147349</td>\n",
       "      <td>7896.787683</td>\n",
       "    </tr>\n",
       "    <tr>\n",
       "      <th>9</th>\n",
       "      <td>7911.438125</td>\n",
       "      <td>7636.362799</td>\n",
       "      <td>12502.086979</td>\n",
       "      <td>8009.791952</td>\n",
       "    </tr>\n",
       "  </tbody>\n",
       "</table>\n",
       "</div>"
      ],
      "text/plain": [
       "        test cv   test wo cv      train cv  train wo cv\n",
       "0  13482.908969  8650.055538  11991.676329  7912.252281\n",
       "1   8567.673295  7676.567978  12473.335229  8002.679936\n",
       "2  17181.781449  9411.029793  11428.928385  7797.589698\n",
       "3   6941.695667  7394.696477  12562.504687  8018.134389\n",
       "4  11540.762660  8482.100750  12206.330273  7908.291761\n",
       "5   9258.664513  7385.995027  12403.458008  8020.066567\n",
       "6  14305.032170  8308.020080  11851.148527  7913.633081\n",
       "7  13424.146316  8383.597261  11969.257071  7916.426606\n",
       "8  16194.683135  8659.332165  11614.147349  7896.787683\n",
       "9   7911.438125  7636.362799  12502.086979  8009.791952"
      ]
     },
     "execution_count": 8,
     "metadata": {},
     "output_type": "execute_result"
    }
   ],
   "source": [
    "pd.DataFrame(data={'train cv':list_rmse_train, 'test cv':list_rmse_test, 'train wo cv': list_rmse_train_scaled, 'test wo cv': list_rmse_test_scaled})"
   ]
  },
  {
   "cell_type": "markdown",
   "metadata": {},
   "source": [
    "**Standard deviation of error in training set after cross-validation**"
   ]
  },
  {
   "cell_type": "code",
   "execution_count": 9,
   "metadata": {},
   "outputs": [
    {
     "data": {
      "text/plain": [
       "8182.063412675323"
      ]
     },
     "execution_count": 9,
     "metadata": {},
     "output_type": "execute_result"
    }
   ],
   "source": [
    "rmse(trained_model_cleaner[5],y_test_cleaner,X_test_cleaner)"
   ]
  },
  {
   "cell_type": "code",
   "execution_count": 10,
   "metadata": {},
   "outputs": [
    {
     "data": {
      "text/plain": [
       "6682.386580892794"
      ]
     },
     "execution_count": 10,
     "metadata": {},
     "output_type": "execute_result"
    }
   ],
   "source": [
    "df = pd.DataFrame(data={'pred':trained_model_cleaner[5].predict(X_test_cleaner), 'target':y_test_cleaner})\n",
    "df['error'] = abs(df['target']-df['pred'])\n",
    "np.mean(df['error'])"
   ]
  },
  {
   "cell_type": "code",
   "execution_count": 11,
   "metadata": {},
   "outputs": [
    {
     "data": {
      "text/plain": [
       "4721.426825922865"
      ]
     },
     "execution_count": 11,
     "metadata": {},
     "output_type": "execute_result"
    }
   ],
   "source": [
    "np.std(df['error'])"
   ]
  },
  {
   "cell_type": "code",
   "execution_count": 12,
   "metadata": {},
   "outputs": [
    {
     "data": {
      "text/plain": [
       "6683.092800371078"
      ]
     },
     "execution_count": 12,
     "metadata": {},
     "output_type": "execute_result"
    }
   ],
   "source": [
    "df = pd.DataFrame(data={'pred':trained_model_cleaner[5].predict(X_train_cleaner), 'target':y_train_cleaner})\n",
    "df['error'] = abs(df['target']-df['pred'])\n",
    "df.sort_values(by=['error'])\n",
    "np.mean(df['error'])"
   ]
  },
  {
   "cell_type": "code",
   "execution_count": 13,
   "metadata": {},
   "outputs": [
    {
     "data": {
      "text/plain": [
       "4711.908422294835"
      ]
     },
     "execution_count": 13,
     "metadata": {},
     "output_type": "execute_result"
    }
   ],
   "source": [
    "np.std(df['error'])"
   ]
  },
  {
   "cell_type": "code",
   "execution_count": 13,
   "metadata": {},
   "outputs": [
    {
     "data": {
      "text/plain": [
       "68.18189367605405"
      ]
     },
     "execution_count": 13,
     "metadata": {},
     "output_type": "execute_result"
    }
   ],
   "source": [
    "np.std(list_rmse_train)"
   ]
  },
  {
   "cell_type": "markdown",
   "metadata": {},
   "source": [
    "**Standard deviation of error in test set after cross-validation**"
   ]
  },
  {
   "cell_type": "code",
   "execution_count": 14,
   "metadata": {},
   "outputs": [
    {
     "data": {
      "text/plain": [
       "625.1284844207817"
      ]
     },
     "execution_count": 14,
     "metadata": {},
     "output_type": "execute_result"
    }
   ],
   "source": [
    "np.std(list_rmse_test)"
   ]
  },
  {
   "cell_type": "markdown",
   "metadata": {},
   "source": [
    "**Mean of the error in the training set after cross-validation**"
   ]
  },
  {
   "cell_type": "code",
   "execution_count": 15,
   "metadata": {},
   "outputs": [
    {
     "data": {
      "text/plain": [
       "7939.565395575459"
      ]
     },
     "execution_count": 15,
     "metadata": {},
     "output_type": "execute_result"
    }
   ],
   "source": [
    "np.mean(list_rmse_train)"
   ]
  },
  {
   "cell_type": "markdown",
   "metadata": {},
   "source": [
    "**Mean of the error in the test set after cross-validation**"
   ]
  },
  {
   "cell_type": "code",
   "execution_count": 16,
   "metadata": {},
   "outputs": [
    {
     "data": {
      "text/plain": [
       "8198.77606055087"
      ]
     },
     "execution_count": 16,
     "metadata": {},
     "output_type": "execute_result"
    }
   ],
   "source": [
    "np.mean(list_rmse_test)"
   ]
  }
 ],
 "metadata": {
  "kernelspec": {
   "display_name": "Python 3",
   "language": "python",
   "name": "python3"
  },
  "language_info": {
   "codemirror_mode": {
    "name": "ipython",
    "version": 3
   },
   "file_extension": ".py",
   "mimetype": "text/x-python",
   "name": "python",
   "nbconvert_exporter": "python",
   "pygments_lexer": "ipython3",
   "version": "3.5.2"
  }
 },
 "nbformat": 4,
 "nbformat_minor": 2
}
