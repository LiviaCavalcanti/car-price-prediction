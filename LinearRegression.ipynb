{
 "cells": [
  {
   "cell_type": "markdown",
   "metadata": {},
   "source": [
    "## Linear Regression"
   ]
  },
  {
   "cell_type": "markdown",
   "metadata": {},
   "source": [
    "Here, we will perform the same procedure done in the *DecisionTree.ipynb* file, just by changing the regression model to Gradient Boosting.\n"
   ]
  },
  {
   "cell_type": "code",
   "execution_count": 2,
   "metadata": {},
   "outputs": [],
   "source": [
    "from preparingData import preparing_data # read data\n",
    "from sklearn import preprocessing\n",
    "from sklearn.model_selection import train_test_split\n",
    "from math import sqrt # RMSE\n",
    "from sklearn.metrics import mean_squared_error # error metric\n",
    "from sklearn.model_selection import cross_val_score, cross_val_predict\n",
    "import matplotlib.pyplot as plt\n",
    "from sklearn.model_selection import KFold # import KFold\n",
    "import numpy as np\n",
    "# model\n",
    "from sklearn import linear_model\n"
   ]
  },
  {
   "cell_type": "code",
   "execution_count": 3,
   "metadata": {},
   "outputs": [
    {
     "name": "stderr",
     "output_type": "stream",
     "text": [
      "/usr/lib/python3/dist-packages/ipykernel_launcher.py:2: DataConversionWarning: Data with input dtype int8, int16, int64 were all converted to float64 by the scale function.\n",
      "  \n"
     ]
    }
   ],
   "source": [
    "X,y=preparing_data()\n",
    "X_scaled = preprocessing.scale(X)\n",
    "X_train, X_test, y_train, y_test = train_test_split(X_scaled, y, test_size=0.2, random_state=42)"
   ]
  },
  {
   "cell_type": "code",
   "execution_count": 4,
   "metadata": {},
   "outputs": [],
   "source": [
    "def rmse(model, y, x):\n",
    "    return sqrt(mean_squared_error(y, model.predict(x)))"
   ]
  },
  {
   "cell_type": "markdown",
   "metadata": {},
   "source": [
    "**Here, we create the regression model:**"
   ]
  },
  {
   "cell_type": "code",
   "execution_count": 5,
   "metadata": {},
   "outputs": [],
   "source": [
    "reg = linear_model.Ridge(alpha=.5)\n",
    "reg.fit(X_train, y_train)\n",
    "predictions = reg.predict(X_test)"
   ]
  },
  {
   "cell_type": "code",
   "execution_count": 6,
   "metadata": {},
   "outputs": [
    {
     "data": {
      "text/plain": [
       "[27900,\n",
       " 7494,\n",
       " 34850,\n",
       " 22974,\n",
       " 30349,\n",
       " 17497,\n",
       " 19500,\n",
       " 26967,\n",
       " 30987,\n",
       " 23257,\n",
       " 8488,\n",
       " 34996,\n",
       " 21495,\n",
       " 37987,\n",
       " 9896,\n",
       " 20811,\n",
       " 6788,\n",
       " 9998,\n",
       " 30487,\n",
       " 13750,\n",
       " 31999,\n",
       " 23799,\n",
       " 18900,\n",
       " 9747,\n",
       " 16988,\n",
       " 17986,\n",
       " 26991,\n",
       " 16966,\n",
       " 15988,\n",
       " 19989,\n",
       " 20995,\n",
       " 21488,\n",
       " 11942,\n",
       " 31804,\n",
       " 6900,\n",
       " 26730,\n",
       " 12049,\n",
       " 11599,\n",
       " 17728,\n",
       " 10250,\n",
       " 14950,\n",
       " 8295,\n",
       " 21492,\n",
       " 19988,\n",
       " 12995,\n",
       " 19000,\n",
       " 47375,\n",
       " 12999,\n",
       " 9989,\n",
       " 6900]"
      ]
     },
     "execution_count": 6,
     "metadata": {},
     "output_type": "execute_result"
    }
   ],
   "source": [
    "y_test[152094:152144].tolist()"
   ]
  },
  {
   "cell_type": "code",
   "execution_count": 7,
   "metadata": {},
   "outputs": [
    {
     "data": {
      "text/plain": [
       "[24923.415561548845,\n",
       " 14378.554358366224,\n",
       " 27112.678983583042,\n",
       " 24121.276253789423,\n",
       " 24575.656315566837,\n",
       " 22351.195897350844,\n",
       " 26089.589379521247,\n",
       " 22699.289936077894,\n",
       " 23539.666803308195,\n",
       " 26239.395570951718,\n",
       " 13773.06081666844,\n",
       " 25690.02115959159,\n",
       " 25025.188165267133,\n",
       " 24366.872431534528,\n",
       " 14840.315929177767,\n",
       " 21760.624687702737,\n",
       " 10528.503863292974,\n",
       " 14805.930842721373,\n",
       " 23298.445187324636,\n",
       " 22672.333493498314,\n",
       " 14454.883854033598,\n",
       " 20654.91547462717,\n",
       " 20450.336447108482,\n",
       " 12595.477343278988,\n",
       " 26700.383272341154,\n",
       " 21764.387674509522,\n",
       " 20508.962078355937,\n",
       " 12009.7097736719,\n",
       " 20711.362908899486,\n",
       " 24103.19940555569,\n",
       " 22508.231091361402,\n",
       " 25002.06562370716,\n",
       " 21621.94027948718,\n",
       " 24610.08290821715,\n",
       " 12895.196758490478,\n",
       " 22544.95336231046,\n",
       " 16592.281216659456,\n",
       " 10955.580377825447,\n",
       " 23900.52395218078,\n",
       " 23033.70022257099,\n",
       " 11442.828855974196,\n",
       " 11244.522286210993,\n",
       " 16946.51947940056,\n",
       " 22671.270415788164,\n",
       " 12591.33622399535,\n",
       " 24438.528523291963,\n",
       " 28469.22642298675,\n",
       " 16629.3330540208,\n",
       " 21454.72887216729,\n",
       " 10917.928437128452]"
      ]
     },
     "execution_count": 7,
     "metadata": {},
     "output_type": "execute_result"
    }
   ],
   "source": [
    "predictions[152094:152144].tolist()"
   ]
  },
  {
   "cell_type": "code",
   "execution_count": 8,
   "metadata": {},
   "outputs": [
    {
     "data": {
      "text/plain": [
       "7952.906389540915"
      ]
     },
     "execution_count": 8,
     "metadata": {},
     "output_type": "execute_result"
    }
   ],
   "source": [
    "rmse(reg, y_train, X_train)"
   ]
  },
  {
   "cell_type": "code",
   "execution_count": 9,
   "metadata": {},
   "outputs": [
    {
     "data": {
      "text/plain": [
       "7954.592151225256"
      ]
     },
     "execution_count": 9,
     "metadata": {},
     "output_type": "execute_result"
    }
   ],
   "source": [
    "rmse(reg, y_test, X_test)"
   ]
  },
  {
   "cell_type": "markdown",
   "metadata": {},
   "source": [
    "**Cross-validation:**"
   ]
  },
  {
   "cell_type": "code",
   "execution_count": 10,
   "metadata": {},
   "outputs": [
    {
     "name": "stdout",
     "output_type": "stream",
     "text": [
      "KFold(n_splits=10, random_state=None, shuffle=False)\n"
     ]
    }
   ],
   "source": [
    "kf = KFold(n_splits=10) # Define the split - into 5 folds \n",
    "kf.get_n_splits(X_scaled) # returns the number of splitting iterations in the cross-validator\n",
    "KFold(n_splits=10, random_state=None, shuffle=False)\n",
    "print(kf) "
   ]
  },
  {
   "cell_type": "code",
   "execution_count": 12,
   "metadata": {},
   "outputs": [],
   "source": [
    "list_rmse_train = []\n",
    "list_rmse_test = []\n",
    "scores_train = []\n",
    "for train_index, test_index in kf.split(X):\n",
    "    X_train, X_test = X.iloc[train_index], X.iloc[test_index]\n",
    "    y_train, y_test = y.iloc[train_index], y.iloc[test_index]\n",
    "    reg = linear_model.Ridge(alpha=.5)\n",
    "    reg.fit(X_train, y_train)\n",
    "    list_rmse_train.append(rmse(reg, y_train, X_train))\n",
    "    list_rmse_test.append(rmse(reg, y_test, X_test))\n",
    "\n",
    "    "
   ]
  },
  {
   "cell_type": "markdown",
   "metadata": {},
   "source": [
    "**Standard deviation of error in training set after cross-validation**"
   ]
  },
  {
   "cell_type": "code",
   "execution_count": 13,
   "metadata": {},
   "outputs": [
    {
     "data": {
      "text/plain": [
       "68.18189367605405"
      ]
     },
     "execution_count": 13,
     "metadata": {},
     "output_type": "execute_result"
    }
   ],
   "source": [
    "np.std(list_rmse_train)"
   ]
  },
  {
   "cell_type": "markdown",
   "metadata": {},
   "source": [
    "**Standard deviation of error in test set after cross-validation**"
   ]
  },
  {
   "cell_type": "code",
   "execution_count": 14,
   "metadata": {},
   "outputs": [
    {
     "data": {
      "text/plain": [
       "625.1284844207817"
      ]
     },
     "execution_count": 14,
     "metadata": {},
     "output_type": "execute_result"
    }
   ],
   "source": [
    "np.std(list_rmse_test)"
   ]
  },
  {
   "cell_type": "markdown",
   "metadata": {},
   "source": [
    "**Mean of the error in the training set after cross-validation**"
   ]
  },
  {
   "cell_type": "code",
   "execution_count": 15,
   "metadata": {},
   "outputs": [
    {
     "data": {
      "text/plain": [
       "7939.565395575459"
      ]
     },
     "execution_count": 15,
     "metadata": {},
     "output_type": "execute_result"
    }
   ],
   "source": [
    "np.mean(list_rmse_train)"
   ]
  },
  {
   "cell_type": "markdown",
   "metadata": {},
   "source": [
    "**Mean of the error in the test set after cross-validation**"
   ]
  },
  {
   "cell_type": "code",
   "execution_count": 16,
   "metadata": {},
   "outputs": [
    {
     "data": {
      "text/plain": [
       "8198.77606055087"
      ]
     },
     "execution_count": 16,
     "metadata": {},
     "output_type": "execute_result"
    }
   ],
   "source": [
    "np.mean(list_rmse_test)"
   ]
  }
 ],
 "metadata": {
  "kernelspec": {
   "display_name": "Python 3",
   "language": "python",
   "name": "python3"
  },
  "language_info": {
   "codemirror_mode": {
    "name": "ipython",
    "version": 3
   },
   "file_extension": ".py",
   "mimetype": "text/x-python",
   "name": "python",
   "nbconvert_exporter": "python",
   "pygments_lexer": "ipython3",
   "version": "3.6.7"
  }
 },
 "nbformat": 4,
 "nbformat_minor": 2
}
