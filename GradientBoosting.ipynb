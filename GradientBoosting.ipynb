{
 "cells": [
  {
   "cell_type": "markdown",
   "metadata": {},
   "source": [
    "## Gradient Boosting Regression"
   ]
  },
  {
   "cell_type": "markdown",
   "metadata": {},
   "source": [
    "Here, we will perform the same procedure done in the *DecisionTree.ipynb* file, just by changing the regression model to Gradient Boosting.\n"
   ]
  },
  {
   "cell_type": "code",
   "execution_count": 1,
   "metadata": {},
   "outputs": [],
   "source": [
    "from utils import preparing_data, cross_validation,rmse # read data\n",
    "from sklearn import preprocessing\n",
    "from sklearn.model_selection import train_test_split\n",
    "from math import sqrt # RMSE\n",
    "from sklearn.metrics import mean_squared_error # error metric\n",
    "from sklearn.model_selection import cross_val_score, cross_val_predict\n",
    "import matplotlib.pyplot as plt\n",
    "from sklearn.model_selection import KFold # import KFold\n",
    "import numpy as np\n",
    "import pandas as pd\n",
    "# model\n",
    "from sklearn.ensemble import GradientBoostingRegressor\n"
   ]
  },
  {
   "cell_type": "markdown",
   "metadata": {},
   "source": [
    "### Model with outliers"
   ]
  },
  {
   "cell_type": "code",
   "execution_count": 2,
   "metadata": {},
   "outputs": [
    {
     "name": "stderr",
     "output_type": "stream",
     "text": [
      "/usr/local/lib/python3.5/dist-packages/ipykernel_launcher.py:2: DataConversionWarning: Data with input dtype int8, int16, int64 were all converted to float64 by the scale function.\n",
      "  \n"
     ]
    }
   ],
   "source": [
    "X,y=preparing_data(IQR=False)\n",
    "X_scaled = preprocessing.scale(X)\n",
    "X_train, X_test, y_train, y_test = train_test_split(X_scaled, y, test_size=0.2, random_state=42)"
   ]
  },
  {
   "cell_type": "code",
   "execution_count": 3,
   "metadata": {},
   "outputs": [],
   "source": [
    "est = GradientBoostingRegressor(n_estimators=100, learning_rate=0.1, max_depth=1, random_state=0, loss='ls')\n",
    "est.fit(X_train, y_train)\n",
    "predictions = est.predict(X_test)"
   ]
  },
  {
   "cell_type": "code",
   "execution_count": 4,
   "metadata": {},
   "outputs": [
    {
     "name": "stdout",
     "output_type": "stream",
     "text": [
      "RMSE train:  11610.313505791 , RMSE test:  11576.743562558253\n"
     ]
    }
   ],
   "source": [
    "print(\"RMSE train: \", rmse(est,y_train,X_train),\", RMSE test: \", rmse(est,y_test,X_test))"
   ]
  },
  {
   "cell_type": "code",
   "execution_count": 5,
   "metadata": {},
   "outputs": [],
   "source": [
    "list_rmse_train,list_rmse_test,trained_model = cross_validation(est,pd.DataFrame(X_scaled),y)"
   ]
  },
  {
   "cell_type": "code",
   "execution_count": 6,
   "metadata": {},
   "outputs": [
    {
     "name": "stdout",
     "output_type": "stream",
     "text": [
      "RMSE Test: [13036.990968860116, 9569.979444607088, 17301.19364759242, 7207.086590090035, 11830.19563390642, 9139.341256195206, 14268.887498569173, 13588.609158878326, 16109.249035655615, 7825.3056131950425] \n",
      "RMSE Train:  [11466.093172242945, 11904.204534389226, 10817.463064153812, 11991.91712920512, 11678.007461435265, 11852.042404392245, 11298.58967603471, 11368.328211837355, 11094.382910955639, 11954.778792262581]\n"
     ]
    }
   ],
   "source": [
    "print(\"RMSE Test:\", list_rmse_test, \"\\nRMSE Train: \", list_rmse_train)"
   ]
  },
  {
   "cell_type": "markdown",
   "metadata": {},
   "source": [
    "### Without outliers"
   ]
  },
  {
   "cell_type": "code",
   "execution_count": 19,
   "metadata": {},
   "outputs": [
    {
     "name": "stderr",
     "output_type": "stream",
     "text": [
      "/usr/local/lib/python3.5/dist-packages/ipykernel_launcher.py:2: DataConversionWarning: Data with input dtype int8, int16, int64 were all converted to float64 by the scale function.\n",
      "  \n"
     ]
    }
   ],
   "source": [
    "X_cleaner,y_cleaner=preparing_data()\n",
    "X_scaled_cleaner = preprocessing.scale(X_cleaner)\n",
    "X_train_cleaner, X_test_cleaner, y_train_cleaner, y_test_cleaner = train_test_split(X_scaled_cleaner, y_cleaner, test_size=0.2, random_state=42)"
   ]
  },
  {
   "cell_type": "markdown",
   "metadata": {},
   "source": [
    "**Here, we create the regression model:**"
   ]
  },
  {
   "cell_type": "code",
   "execution_count": 20,
   "metadata": {},
   "outputs": [],
   "source": [
    "est_cleaner = GradientBoostingRegressor(n_estimators=100, learning_rate=0.1, max_depth=1, random_state=0, loss='ls')\n",
    "est_cleaner.fit(X_train_cleaner, y_train_cleaner)\n",
    "predictions_cleaner = est_cleaner.predict(X_test_cleaner)"
   ]
  },
  {
   "cell_type": "code",
   "execution_count": 9,
   "metadata": {},
   "outputs": [
    {
     "name": "stdout",
     "output_type": "stream",
     "text": [
      "RMSE train:  7561.369734384837 , RMSE test:  7564.564281280412\n"
     ]
    }
   ],
   "source": [
    "print(\"RMSE train: \", rmse(est_cleaner,y_train_cleaner,X_train_cleaner),\", RMSE test: \", rmse(est_cleaner,y_test_cleaner,X_test_cleaner))"
   ]
  },
  {
   "cell_type": "markdown",
   "metadata": {},
   "source": [
    "**Cross-validation:**"
   ]
  },
  {
   "cell_type": "code",
   "execution_count": 21,
   "metadata": {},
   "outputs": [],
   "source": [
    "list_rmse_train_cleaner,list_rmse_test_cleaner,trained_model = cross_validation(est_cleaner,pd.DataFrame(X_scaled_cleaner),y_cleaner)"
   ]
  },
  {
   "cell_type": "code",
   "execution_count": 11,
   "metadata": {},
   "outputs": [
    {
     "data": {
      "text/html": [
       "<div>\n",
       "<style scoped>\n",
       "    .dataframe tbody tr th:only-of-type {\n",
       "        vertical-align: middle;\n",
       "    }\n",
       "\n",
       "    .dataframe tbody tr th {\n",
       "        vertical-align: top;\n",
       "    }\n",
       "\n",
       "    .dataframe thead th {\n",
       "        text-align: right;\n",
       "    }\n",
       "</style>\n",
       "<table border=\"1\" class=\"dataframe\">\n",
       "  <thead>\n",
       "    <tr style=\"text-align: right;\">\n",
       "      <th></th>\n",
       "      <th>test cv</th>\n",
       "      <th>test wo cv</th>\n",
       "      <th>train cv</th>\n",
       "      <th>train wo cv</th>\n",
       "    </tr>\n",
       "  </thead>\n",
       "  <tbody>\n",
       "    <tr>\n",
       "      <th>0</th>\n",
       "      <td>13036.990969</td>\n",
       "      <td>8317.720316</td>\n",
       "      <td>11466.093172</td>\n",
       "      <td>7549.958743</td>\n",
       "    </tr>\n",
       "    <tr>\n",
       "      <th>1</th>\n",
       "      <td>9569.979445</td>\n",
       "      <td>8387.136547</td>\n",
       "      <td>11904.204534</td>\n",
       "      <td>7574.144157</td>\n",
       "    </tr>\n",
       "    <tr>\n",
       "      <th>2</th>\n",
       "      <td>17301.193648</td>\n",
       "      <td>10395.383778</td>\n",
       "      <td>10817.463064</td>\n",
       "      <td>7230.962284</td>\n",
       "    </tr>\n",
       "    <tr>\n",
       "      <th>3</th>\n",
       "      <td>7207.086590</td>\n",
       "      <td>8200.938590</td>\n",
       "      <td>11991.917129</td>\n",
       "      <td>7533.001856</td>\n",
       "    </tr>\n",
       "    <tr>\n",
       "      <th>4</th>\n",
       "      <td>11830.195634</td>\n",
       "      <td>8720.544354</td>\n",
       "      <td>11678.007461</td>\n",
       "      <td>7512.756387</td>\n",
       "    </tr>\n",
       "    <tr>\n",
       "      <th>5</th>\n",
       "      <td>9139.341256</td>\n",
       "      <td>7402.522271</td>\n",
       "      <td>11852.042404</td>\n",
       "      <td>7599.403913</td>\n",
       "    </tr>\n",
       "    <tr>\n",
       "      <th>6</th>\n",
       "      <td>14268.887499</td>\n",
       "      <td>8504.123869</td>\n",
       "      <td>11298.589676</td>\n",
       "      <td>7469.020184</td>\n",
       "    </tr>\n",
       "    <tr>\n",
       "      <th>7</th>\n",
       "      <td>13588.609159</td>\n",
       "      <td>8645.039479</td>\n",
       "      <td>11368.328212</td>\n",
       "      <td>7447.815507</td>\n",
       "    </tr>\n",
       "    <tr>\n",
       "      <th>8</th>\n",
       "      <td>16109.249036</td>\n",
       "      <td>9039.823660</td>\n",
       "      <td>11094.382911</td>\n",
       "      <td>7526.008896</td>\n",
       "    </tr>\n",
       "    <tr>\n",
       "      <th>9</th>\n",
       "      <td>7825.305613</td>\n",
       "      <td>7868.764639</td>\n",
       "      <td>11954.778792</td>\n",
       "      <td>7604.760005</td>\n",
       "    </tr>\n",
       "  </tbody>\n",
       "</table>\n",
       "</div>"
      ],
      "text/plain": [
       "        test cv    test wo cv      train cv  train wo cv\n",
       "0  13036.990969   8317.720316  11466.093172  7549.958743\n",
       "1   9569.979445   8387.136547  11904.204534  7574.144157\n",
       "2  17301.193648  10395.383778  10817.463064  7230.962284\n",
       "3   7207.086590   8200.938590  11991.917129  7533.001856\n",
       "4  11830.195634   8720.544354  11678.007461  7512.756387\n",
       "5   9139.341256   7402.522271  11852.042404  7599.403913\n",
       "6  14268.887499   8504.123869  11298.589676  7469.020184\n",
       "7  13588.609159   8645.039479  11368.328212  7447.815507\n",
       "8  16109.249036   9039.823660  11094.382911  7526.008896\n",
       "9   7825.305613   7868.764639  11954.778792  7604.760005"
      ]
     },
     "execution_count": 11,
     "metadata": {},
     "output_type": "execute_result"
    }
   ],
   "source": [
    "pd.DataFrame(data={'train cv':list_rmse_train, 'test cv':list_rmse_test, 'train wo cv': list_rmse_train_cleaner, 'test wo cv': list_rmse_test_cleaner})"
   ]
  },
  {
   "cell_type": "code",
   "execution_count": 28,
   "metadata": {},
   "outputs": [
    {
     "data": {
      "text/plain": [
       "6044.006439998721"
      ]
     },
     "execution_count": 28,
     "metadata": {},
     "output_type": "execute_result"
    }
   ],
   "source": [
    "df = pd.DataFrame(data={'pred':trained_model[5].predict(X_test_cleaner), 'target':y_test_cleaner})\n",
    "df['error'] = abs(df['target']-df['pred'])\n",
    "df.sort_values(by=['error'])\n",
    "np.mean(df['error'])"
   ]
  },
  {
   "cell_type": "code",
   "execution_count": 29,
   "metadata": {},
   "outputs": [
    {
     "data": {
      "text/plain": [
       "4663.939028694304"
      ]
     },
     "execution_count": 29,
     "metadata": {},
     "output_type": "execute_result"
    }
   ],
   "source": [
    "np.std(df['error'])"
   ]
  },
  {
   "cell_type": "code",
   "execution_count": 26,
   "metadata": {},
   "outputs": [
    {
     "data": {
      "text/plain": [
       "6042.09293848066"
      ]
     },
     "execution_count": 26,
     "metadata": {},
     "output_type": "execute_result"
    }
   ],
   "source": [
    "df = pd.DataFrame(data={'pred':trained_model[5].predict(X_train_cleaner), 'target':y_train_cleaner})\n",
    "df['error'] = abs(df['target']-df['pred'])\n",
    "df.sort_values(by=['error'])\n",
    "np.mean(df['error'])"
   ]
  },
  {
   "cell_type": "code",
   "execution_count": 27,
   "metadata": {},
   "outputs": [
    {
     "data": {
      "text/plain": [
       "4660.861434651604"
      ]
     },
     "execution_count": 27,
     "metadata": {},
     "output_type": "execute_result"
    }
   ],
   "source": [
    "np.std(df['error'])"
   ]
  },
  {
   "cell_type": "markdown",
   "metadata": {},
   "source": [
    "**Standard deviation of error in training set after cross-validation**"
   ]
  },
  {
   "cell_type": "code",
   "execution_count": 12,
   "metadata": {},
   "outputs": [
    {
     "data": {
      "text/plain": [
       "103.25348068240042"
      ]
     },
     "execution_count": 12,
     "metadata": {},
     "output_type": "execute_result"
    }
   ],
   "source": [
    "np.std(list_rmse_train_cleaner)"
   ]
  },
  {
   "cell_type": "markdown",
   "metadata": {},
   "source": [
    "**Standard deviation of error in test set after cross-validation**"
   ]
  },
  {
   "cell_type": "code",
   "execution_count": 13,
   "metadata": {},
   "outputs": [
    {
     "data": {
      "text/plain": [
       "752.9055435196367"
      ]
     },
     "execution_count": 13,
     "metadata": {},
     "output_type": "execute_result"
    }
   ],
   "source": [
    "np.std(list_rmse_test_cleaner)"
   ]
  },
  {
   "cell_type": "markdown",
   "metadata": {},
   "source": [
    "**Mean of the error in the training set after cross-validation**"
   ]
  },
  {
   "cell_type": "code",
   "execution_count": 14,
   "metadata": {},
   "outputs": [
    {
     "data": {
      "text/plain": [
       "7504.78319312853"
      ]
     },
     "execution_count": 14,
     "metadata": {},
     "output_type": "execute_result"
    }
   ],
   "source": [
    "np.mean(list_rmse_train_cleaner)"
   ]
  },
  {
   "cell_type": "markdown",
   "metadata": {},
   "source": [
    "**Mean of the error in the test set after cross-validation**"
   ]
  },
  {
   "cell_type": "code",
   "execution_count": 15,
   "metadata": {},
   "outputs": [
    {
     "data": {
      "text/plain": [
       "8548.199750133077"
      ]
     },
     "execution_count": 15,
     "metadata": {},
     "output_type": "execute_result"
    }
   ],
   "source": [
    "np.mean(list_rmse_test_cleaner)"
   ]
  }
 ],
 "metadata": {
  "kernelspec": {
   "display_name": "Python 3",
   "language": "python",
   "name": "python3"
  },
  "language_info": {
   "codemirror_mode": {
    "name": "ipython",
    "version": 3
   },
   "file_extension": ".py",
   "mimetype": "text/x-python",
   "name": "python",
   "nbconvert_exporter": "python",
   "pygments_lexer": "ipython3",
   "version": "3.5.2"
  }
 },
 "nbformat": 4,
 "nbformat_minor": 2
}
